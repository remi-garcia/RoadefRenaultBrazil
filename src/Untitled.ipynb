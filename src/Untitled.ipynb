{
 "cells": [
  {
   "cell_type": "code",
   "execution_count": 11,
   "metadata": {},
   "outputs": [
    {
     "data": {
      "text/plain": [
       "Solution([1, 2, 3, 4, 5, 6, 7, 8, 9, 10  …  225, 226, 227, 228, 229, 230, 231, 232, 233, 234], [0 0 … 0 0; 0 0 … 0 0; 0 0 … 0 0; 0 0 … 0 0], [0 0 … 0 0; 0 0 … 0 0; 0 0 … 0 0; 0 0 … 0 0], [0 0 … 0 0; 0 0 … 0 0; 0 0 … 0 0; 0 0 … 0 0])"
      ]
     },
     "execution_count": 11,
     "metadata": {},
     "output_type": "execute_result"
    }
   ],
   "source": [
    "include(\"parser.jl\")\n",
    "include(\"solution.jl\")\n",
    "\n",
    "\n",
    "##===================================================##\n",
    "##           Data stucture and Parser                ##\n",
    "##===================================================##\n",
    "\n",
    "nom_fichier = \"655_CH2_EP_RAF_ENP_S52_J1_J2_S01_J1\"\n",
    "type_fichier = \"X\"\n",
    "instance = parser(nom_fichier, type_fichier)\n",
    "solution = init_solution(nom_fichier, type_fichier)\n"
   ]
  },
  {
   "cell_type": "code",
   "execution_count": 12,
   "metadata": {},
   "outputs": [
    {
     "data": {
      "text/plain": [
       "234×4 Array{Bool,2}:\n",
       " 1  0  0  1\n",
       " 0  0  0  0\n",
       " 0  0  1  1\n",
       " 0  0  0  1\n",
       " 1  0  0  1\n",
       " 0  0  1  1\n",
       " 0  0  0  0\n",
       " 0  0  0  1\n",
       " 0  0  1  1\n",
       " 1  0  0  1\n",
       " 0  0  0  1\n",
       " 0  0  0  1\n",
       " 0  0  1  1\n",
       " ⋮         \n",
       " 1  0  0  1\n",
       " 0  0  1  1\n",
       " 0  0  0  0\n",
       " 0  0  0  0\n",
       " 0  0  0  0\n",
       " 0  0  0  0\n",
       " 0  0  1  1\n",
       " 0  0  0  0\n",
       " 0  0  0  0\n",
       " 1  0  0  1\n",
       " 0  0  0  0\n",
       " 0  0  1  1"
      ]
     },
     "execution_count": 12,
     "metadata": {},
     "output_type": "execute_result"
    }
   ],
   "source": [
    "instance.HPRC_flag"
   ]
  },
  {
   "cell_type": "code",
   "execution_count": 19,
   "metadata": {},
   "outputs": [
    {
     "name": "stdout",
     "output_type": "stream",
     "text": [
      "ratio 1 = 1/9\n",
      "ratio 2 = 1/16\n",
      "ratio 3 = 1/6\n",
      "ratio 4 = 2/3\n"
     ]
    }
   ],
   "source": [
    "for i in 1:instance.nb_HPRC\n",
    "    println(\"ratio \",i,\" = \" ,instance.HPRC_p[i],\"/\",instance.HPRC_q[i])\n",
    "end"
   ]
  },
  {
   "cell_type": "code",
   "execution_count": 24,
   "metadata": {},
   "outputs": [
    {
     "data": {
      "text/plain": [
       "234"
      ]
     },
     "execution_count": 24,
     "metadata": {},
     "output_type": "execute_result"
    }
   ],
   "source": [
    "V=length(instance.color_code)"
   ]
  },
  {
   "cell_type": "code",
   "execution_count": 25,
   "metadata": {},
   "outputs": [
    {
     "data": {
      "text/plain": [
       "234-element Array{Int64,1}:\n",
       " 5\n",
       " 5\n",
       " 5\n",
       " 5\n",
       " 5\n",
       " 5\n",
       " 5\n",
       " 5\n",
       " 5\n",
       " 5\n",
       " 5\n",
       " 5\n",
       " 5\n",
       " ⋮\n",
       " 5\n",
       " 3\n",
       " 5\n",
       " 5\n",
       " 5\n",
       " 5\n",
       " 4\n",
       " 5\n",
       " 5\n",
       " 5\n",
       " 5\n",
       " 4"
      ]
     },
     "execution_count": 25,
     "metadata": {},
     "output_type": "execute_result"
    }
   ],
   "source": [
    "function greedy(inst::Instances)\n",
    "\n",
    "# The constructive greedy heuristic starts with\n",
    "# a partial sequence formed by the remaining cars\n",
    "# from the previous day.\n",
    "\n",
    "    # We compute an empty sequence with some cars already scheduled\n",
    "    sol = init_solution(inst)\n",
    "    # We have V the set of cars to be scheduled\n",
    "    len = (sol.n) - (inst.nb_late_prec_day)\n",
    "    V = collect((inst.nb_late_prec_day+1):(sol.n))\n",
    "\n",
    "    # Update of Mi\n",
    "    # For the nb_late_prec_day first cars\n",
    "    # Update M1, M2, M3\n",
    "    # for i in 1:(sol.n)\n",
    "    #     for j in 1:inst.nb_HPRC\n",
    "    #         if inst.HPRC_flag[j]\n",
    "    #             M1[i,j] = M1[i,j] + 1\n",
    "    #         end\n",
    "    #     end\n",
    "    #     for j in 1:inst.nb_LPRC\n",
    "    #         if inst.HPRC_flag[j + inst.nb_HPRC]\n",
    "    #             M1[i,j + inst.nb_HPRC] = M1[i,j + inst.nb_HPRC] + 1\n",
    "    #         end\n",
    "    #     end\n",
    "    # end\n",
    "\n",
    "\n",
    "\n",
    "    # The criterion consists in choosing, at each iteration, the car that\n",
    "    # induces the smallest number of new violations when inserted at the\n",
    "    # end of the current partial sequence.\n",
    "    for pos in (inst.nb_late_prec_day+1):(sol.n)\n",
    "\n",
    "        # I will now compute the number of violations caused by each car\n",
    "        nb_new_violation = zeros(Int, len)\n",
    "        for c in V\n",
    "            for j in 1:inst.nb_HPRC\n",
    "                if inst.HPRC_flag[pos,j]\n",
    "                    for i in ((pos - inst.HPRC_q[j])+1):pos\n",
    "                        if sol.M1[j,i] >= inst.HPRC_p[j]\n",
    "                            nb_new_violation[v] = nb_new_violation[v] + 1\n",
    "                        end\n",
    "                    end\n",
    "                end\n",
    "            end\n",
    "        end\n",
    "\n",
    "        # I will now compute the set of minimal-rapist's indexes\n",
    "        cars = [V[1]]\n",
    "        nb_min = nb_new_violation[1]\n",
    "        for c in 2:len\n",
    "            if nb_new_violation[c] < nb_min\n",
    "                nb_min = nb_new_violation[c]\n",
    "                cars = [V[c]]\n",
    "            elseif nb_new_violation[c] == nb_min\n",
    "                push!(cars, V[c])\n",
    "            end\n",
    "        end\n",
    "\n",
    "        # If |cars| =/= 1, we will pass by tie breaking criterion\n",
    "        if length(cars) > 1\n",
    "\n",
    "        end\n",
    "\n",
    "        # The car is not in the list anymore\n",
    "        c = cars[1]\n",
    "        len = len - 1\n",
    "        filter!(x->x≠c, V)\n",
    "\n",
    "    end\n",
    "\n"
   ]
  },
  {
   "cell_type": "code",
   "execution_count": 95,
   "metadata": {},
   "outputs": [
    {
     "data": {
      "text/plain": [
       "move (generic function with 1 method)"
      ]
     },
     "execution_count": 95,
     "metadata": {},
     "output_type": "execute_result"
    }
   ],
   "source": [
    "function move(instance,i,j)\n",
    "    color_code_i=instance.color_code[i]\n",
    "    flag_HPRC_i=instance.HPRC_flag[i,:]\n",
    "    if length(instance.LPRC_flag)!=0\n",
    "        flag_LPRC_i=instance.LPRC_flag[i,:]\n",
    "        instance.LPRC_flag[i,:]=instance.LPRC_flag[j,:]\n",
    "        instance.LPRC_flag[j,:]=flag_LPRC_i\n",
    "    end\n",
    "    println(instance.color_code[i],\";\",instance.color_code[j])\n",
    "    println(instance.HPRC_flag[i,:],\";\",instance.HPRC_flag[j,:])\n",
    "    #println(instance.LPRC_flag[i,:],\";\",instance.LPRC_flag[j,:]) \n",
    "    instance.HPRC_flag[i,:]=instance.HPRC_flag[j,:]\n",
    "    instance.HPRC_flag[j,:]=flag_HPRC_i\n",
    "    instance.color_code[i]=instance.color_code[j]\n",
    "    instance.color_code[j]=color_code_i\n",
    "    #return instance.color_code[i],instance.color_code[j],instance.HPRC_flag[i,:],instance.HPRC_flag[j,:]\n",
    "end    "
   ]
  },
  {
   "cell_type": "code",
   "execution_count": 99,
   "metadata": {},
   "outputs": [
    {
     "name": "stdout",
     "output_type": "stream",
     "text": [
      "5;4\n",
      "Bool[0, 0, 1, 1];Bool[0, 0, 0, 0]\n",
      "4;5;Bool[0, 0, 0, 0];Bool[0, 0, 1, 1]\n"
     ]
    }
   ],
   "source": [
    "c1,c2,f1,f2=move(instance,15,16)\n",
    "println(c1,\";\",c2,\";\",f1,\";\",f2)"
   ]
  },
  {
   "cell_type": "code",
   "execution_count": 100,
   "metadata": {},
   "outputs": [
    {
     "data": {
      "text/plain": [
       "4-element Array{Bool,1}:\n",
       " 0\n",
       " 0\n",
       " 0\n",
       " 0"
      ]
     },
     "execution_count": 100,
     "metadata": {},
     "output_type": "execute_result"
    }
   ],
   "source": [
    "instance.HPRC_flag[15,:]"
   ]
  },
  {
   "cell_type": "code",
   "execution_count": 49,
   "metadata": {},
   "outputs": [
    {
     "data": {
      "text/plain": [
       "234×4 Array{Bool,2}:\n",
       " 1  0  0  1\n",
       " 0  0  0  0\n",
       " 0  0  1  1\n",
       " 0  0  0  1\n",
       " 1  0  0  1\n",
       " 0  0  1  1\n",
       " 0  0  0  0\n",
       " 0  0  0  1\n",
       " 0  0  1  1\n",
       " 1  0  0  1\n",
       " 0  0  0  1\n",
       " 0  0  0  1\n",
       " 0  0  1  1\n",
       " ⋮         \n",
       " 1  0  0  1\n",
       " 0  0  1  1\n",
       " 0  0  0  0\n",
       " 0  0  0  0\n",
       " 0  0  0  0\n",
       " 0  0  0  0\n",
       " 0  0  1  1\n",
       " 0  0  0  0\n",
       " 0  0  0  0\n",
       " 1  0  0  1\n",
       " 0  0  0  0\n",
       " 0  0  1  1"
      ]
     },
     "execution_count": 49,
     "metadata": {},
     "output_type": "execute_result"
    }
   ],
   "source": [
    "instance.HPRC_flag"
   ]
  },
  {
   "cell_type": "code",
   "execution_count": 73,
   "metadata": {},
   "outputs": [
    {
     "data": {
      "text/plain": [
       "4-element Array{Bool,1}:\n",
       " 1\n",
       " 0\n",
       " 0\n",
       " 1"
      ]
     },
     "execution_count": 73,
     "metadata": {},
     "output_type": "execute_result"
    }
   ],
   "source": [
    "instance.HPRC_flag[1,:]"
   ]
  },
  {
   "cell_type": "code",
   "execution_count": null,
   "metadata": {},
   "outputs": [],
   "source": [
    "for b in instance.nb_late_prec_day:V\n",
    "\n",
    "end"
   ]
  },
  {
   "cell_type": "code",
   "execution_count": null,
   "metadata": {},
   "outputs": [],
   "source": []
  },
  {
   "cell_type": "code",
   "execution_count": null,
   "metadata": {},
   "outputs": [],
   "source": []
  },
  {
   "cell_type": "code",
   "execution_count": null,
   "metadata": {},
   "outputs": [],
   "source": []
  },
  {
   "cell_type": "code",
   "execution_count": null,
   "metadata": {},
   "outputs": [],
   "source": []
  },
  {
   "cell_type": "code",
   "execution_count": null,
   "metadata": {},
   "outputs": [],
   "source": []
  },
  {
   "cell_type": "code",
   "execution_count": null,
   "metadata": {},
   "outputs": [],
   "source": []
  },
  {
   "cell_type": "code",
   "execution_count": null,
   "metadata": {},
   "outputs": [],
   "source": []
  },
  {
   "cell_type": "code",
   "execution_count": null,
   "metadata": {},
   "outputs": [],
   "source": []
  },
  {
   "cell_type": "code",
   "execution_count": null,
   "metadata": {},
   "outputs": [],
   "source": []
  },
  {
   "cell_type": "code",
   "execution_count": null,
   "metadata": {},
   "outputs": [],
   "source": []
  }
 ],
 "metadata": {
  "kernelspec": {
   "display_name": "Julia 1.2.0",
   "language": "julia",
   "name": "julia-1.2"
  },
  "language_info": {
   "file_extension": ".jl",
   "mimetype": "application/julia",
   "name": "julia",
   "version": "1.2.0"
  }
 },
 "nbformat": 4,
 "nbformat_minor": 2
}
